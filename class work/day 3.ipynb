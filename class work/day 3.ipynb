{
 "cells": [
  {
   "cell_type": "code",
   "execution_count": 1,
   "id": "49e5f598-9530-4f94-87bb-9000b4bcb0d5",
   "metadata": {},
   "outputs": [
    {
     "name": "stdout",
     "output_type": "stream",
     "text": [
      "olleh\n"
     ]
    }
   ],
   "source": [
    "#with out using key word\n",
    "k=\"hello\"\n",
    "print(k[::-1])"
   ]
  },
  {
   "cell_type": "code",
   "execution_count": 3,
   "id": "c85ec1de-4e7a-4c87-a040-5bab8a6abfa1",
   "metadata": {},
   "outputs": [
    {
     "name": "stdin",
     "output_type": "stream",
     "text": [
      "enter your name vishva\n",
      "enter your native tvr\n"
     ]
    },
    {
     "name": "stdout",
     "output_type": "stream",
     "text": [
      "hi i am vishva,from tvr\n"
     ]
    }
   ],
   "source": [
    "name=input(\"enter your name\")\n",
    "native=input(\"enter your native\")\n",
    "out=f\"hi i am {name},from {native}\"\n",
    "print(out)"
   ]
  },
  {
   "cell_type": "code",
   "execution_count": 1,
   "id": "34770da2-80ec-455c-b2f3-b94c874345b5",
   "metadata": {},
   "outputs": [
    {
     "name": "stdout",
     "output_type": "stream",
     "text": [
      "5.0\n",
      "20\n",
      "12\n",
      "100\n"
     ]
    }
   ],
   "source": [
    "a=10\n",
    "b=2\n",
    "print(a/b)\n",
    "print(a*b)\n",
    "print(a+b)\n",
    "print(a**b)"
   ]
  },
  {
   "cell_type": "code",
   "execution_count": null,
   "id": "f4784bf0-16ee-41c2-ba8c-60168d7d2d76",
   "metadata": {},
   "outputs": [],
   "source": [
    "#operators hw\n",
    "1.arithmatic\n"
   ]
  }
 ],
 "metadata": {
  "kernelspec": {
   "display_name": "Python [conda env:Attachments]",
   "language": "python",
   "name": "conda-env-Attachments-py"
  },
  "language_info": {
   "codemirror_mode": {
    "name": "ipython",
    "version": 3
   },
   "file_extension": ".py",
   "mimetype": "text/x-python",
   "name": "python",
   "nbconvert_exporter": "python",
   "pygments_lexer": "ipython3",
   "version": "3.12.7"
  }
 },
 "nbformat": 4,
 "nbformat_minor": 5
}
