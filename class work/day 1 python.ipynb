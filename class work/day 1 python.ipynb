{
 "cells": [
  {
   "cell_type": "code",
   "execution_count": 1,
   "id": "d9d60b3b-3072-417c-a313-21ae423fc8e5",
   "metadata": {},
   "outputs": [
    {
     "name": "stdout",
     "output_type": "stream",
     "text": [
      "hello world\n"
     ]
    }
   ],
   "source": [
    "print(\"hello world\")"
   ]
  },
  {
   "cell_type": "code",
   "execution_count": 3,
   "id": "e2957b21-a7ec-416d-9d7b-f21175c8803a",
   "metadata": {},
   "outputs": [
    {
     "data": {
      "text/plain": [
       "'3.12.7 | packaged by Anaconda, Inc. | (main, Oct  4 2024, 13:17:27) [MSC v.1929 64 bit (AMD64)]'"
      ]
     },
     "execution_count": 3,
     "metadata": {},
     "output_type": "execute_result"
    }
   ],
   "source": [
    "import sys\n",
    "sys. version"
   ]
  },
  {
   "cell_type": "code",
   "execution_count": 1,
   "id": "82e88bd3-f7eb-482b-9d52-b414533d5e91",
   "metadata": {},
   "outputs": [
    {
     "name": "stdout",
     "output_type": "stream",
     "text": [
      "8\n"
     ]
    }
   ],
   "source": [
    "k=7\n",
    "k=8\n",
    "print(k)"
   ]
  },
  {
   "cell_type": "code",
   "execution_count": 3,
   "id": "6f4849c8-93b6-4744-97b8-9f9cea535a56",
   "metadata": {},
   "outputs": [
    {
     "ename": "SyntaxError",
     "evalue": "invalid decimal literal (3187940874.py, line 1)",
     "output_type": "error",
     "traceback": [
      "\u001b[1;36m  Cell \u001b[1;32mIn[3], line 1\u001b[1;36m\u001b[0m\n\u001b[1;33m    1k=7\u001b[0m\n\u001b[1;37m    ^\u001b[0m\n\u001b[1;31mSyntaxError\u001b[0m\u001b[1;31m:\u001b[0m invalid decimal literal\n"
     ]
    }
   ],
   "source": [
    "1k=7\n",
    "print(1k)"
   ]
  },
  {
   "cell_type": "code",
   "execution_count": 5,
   "id": "dbe2c66d-b98b-4ef2-a9c9-a1421892f917",
   "metadata": {},
   "outputs": [
    {
     "ename": "SyntaxError",
     "evalue": "cannot assign to literal here. Maybe you meant '==' instead of '='? (3098852717.py, line 1)",
     "output_type": "error",
     "traceback": [
      "\u001b[1;36m  Cell \u001b[1;32mIn[5], line 1\u001b[1;36m\u001b[0m\n\u001b[1;33m    1=7\u001b[0m\n\u001b[1;37m    ^\u001b[0m\n\u001b[1;31mSyntaxError\u001b[0m\u001b[1;31m:\u001b[0m cannot assign to literal here. Maybe you meant '==' instead of '='?\n"
     ]
    }
   ],
   "source": [
    "1=7\n",
    "print(1)\n"
   ]
  },
  {
   "cell_type": "code",
   "execution_count": 11,
   "id": "8a58a718-33fa-4021-bb8d-945f11ae9955",
   "metadata": {},
   "outputs": [
    {
     "name": "stdout",
     "output_type": "stream",
     "text": [
      "8\n"
     ]
    }
   ],
   "source": [
    "k1=7\n",
    "k2=8\n",
    "print(k2)"
   ]
  },
  {
   "cell_type": "markdown",
   "id": "54f2a65f-ebc5-4c84-a551-5aa4ce0c067c",
   "metadata": {},
   "source": [
    "a=7\n",
    "A=8\n",
    "print(a)"
   ]
  },
  {
   "cell_type": "code",
   "execution_count": 13,
   "id": "838baab1-dcf4-48b7-a7c2-c94eb6215531",
   "metadata": {},
   "outputs": [
    {
     "name": "stdin",
     "output_type": "stream",
     "text": [
      "enter your input 12\n"
     ]
    },
    {
     "name": "stdout",
     "output_type": "stream",
     "text": [
      "12\n"
     ]
    }
   ],
   "source": [
    "k=input(\"enter your input\")\n",
    "print(k)"
   ]
  },
  {
   "cell_type": "code",
   "execution_count": 5,
   "id": "3e443802-2548-4f04-a57c-f8eda91f2dec",
   "metadata": {},
   "outputs": [
    {
     "name": "stdout",
     "output_type": "stream",
     "text": [
      "<class 'int'>\n",
      "<class 'str'>\n"
     ]
    }
   ],
   "source": [
    "k1=7\n",
    "k2=\"8\"\n",
    "print(type(k1))\n",
    "print(type(k2))"
   ]
  },
  {
   "cell_type": "code",
   "execution_count": 7,
   "id": "203f4455-ba7f-4304-a9f8-5a906d4cb6a0",
   "metadata": {},
   "outputs": [
    {
     "name": "stdout",
     "output_type": "stream",
     "text": [
      "<class 'str'>\n"
     ]
    }
   ],
   "source": [
    "k=7\n",
    "k1=str(k)\n",
    "print(type(k1))\n"
   ]
  },
  {
   "cell_type": "code",
   "execution_count": null,
   "id": "fdfa974c-74bc-4859-87a5-39b8847694fa",
   "metadata": {},
   "outputs": [],
   "source": []
  }
 ],
 "metadata": {
  "kernelspec": {
   "display_name": "Python [conda env:Attachments]",
   "language": "python",
   "name": "conda-env-Attachments-py"
  },
  "language_info": {
   "codemirror_mode": {
    "name": "ipython",
    "version": 3
   },
   "file_extension": ".py",
   "mimetype": "text/x-python",
   "name": "python",
   "nbconvert_exporter": "python",
   "pygments_lexer": "ipython3",
   "version": "3.12.7"
  }
 },
 "nbformat": 4,
 "nbformat_minor": 5
}
