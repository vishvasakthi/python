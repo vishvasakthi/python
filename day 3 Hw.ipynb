{
 "cells": [
  {
   "cell_type": "code",
   "execution_count": 14,
   "id": "8ae76fa9-9a49-4a46-8b26-b2e6c62af54d",
   "metadata": {},
   "outputs": [
    {
     "name": "stdout",
     "output_type": "stream",
     "text": [
      "Vishva, sakthi\n",
      "VISHVA, SAKTHI\n",
      "vishva, sakthi\n",
      "14\n"
     ]
    }
   ],
   "source": [
    "n= \"vishva, sakthi\"\n",
    "print(n.capitalize())\n",
    "print(n.upper())\n",
    "print(n.lower())\n",
    "print(len(n))"
   ]
  },
  {
   "cell_type": "code",
   "execution_count": 18,
   "id": "6f4a7b11-5afc-4239-b570-7ba771189c91",
   "metadata": {},
   "outputs": [
    {
     "name": "stdout",
     "output_type": "stream",
     "text": [
      "vishva sakthi\n",
      "['vishva', 'sakthi']\n"
     ]
    }
   ],
   "source": [
    "n= \"  vishva sakthi  \"\n",
    "print(n.strip())\n",
    "print(n.split())"
   ]
  },
  {
   "cell_type": "code",
   "execution_count": 22,
   "id": "81f3e5fe-8030-4c14-80cf-d0e3b3e64356",
   "metadata": {},
   "outputs": [
    {
     "name": "stdout",
     "output_type": "stream",
     "text": [
      "10.0\n",
      "40\n",
      "22\n",
      "400\n",
      "18\n"
     ]
    }
   ],
   "source": [
    "a=20\n",
    "b=2\n",
    "print(a/b)\n",
    "print(a*b)\n",
    "print(a+b)\n",
    "print(a**b)\n",
    "print(a-b)"
   ]
  },
  {
   "cell_type": "code",
   "execution_count": 66,
   "id": "9b79d7d7-0201-4116-b2bc-f40ec1e01654",
   "metadata": {},
   "outputs": [
    {
     "name": "stdout",
     "output_type": "stream",
     "text": [
      "2\n",
      "vishva sakthi\n",
      "Vishva Sakthi\n"
     ]
    }
   ],
   "source": [
    "n= \"vishva sakthi\"\n",
    "print(n.count(\"a\"))\n",
    "print(n.translate(n))\n",
    "print(n.title())"
   ]
  },
  {
   "cell_type": "code",
   "execution_count": 62,
   "id": "50e9e594-ab01-4d0b-a408-02829a1122cd",
   "metadata": {},
   "outputs": [
    {
     "name": "stdout",
     "output_type": "stream",
     "text": [
      "MY NAME IS VISHVA\n",
      "['my name is vishva']\n"
     ]
    }
   ],
   "source": [
    "n= \"my name is vishva\"\n",
    "print(n.swapcase())\n",
    "print(n.splitlines())"
   ]
  },
  {
   "cell_type": "code",
   "execution_count": 64,
   "id": "ae744198-485e-4161-91c7-6ede26f5c70b",
   "metadata": {},
   "outputs": [
    {
     "name": "stdout",
     "output_type": "stream",
     "text": [
      "hello, and welcome to my world!\n"
     ]
    }
   ],
   "source": [
    "n=  \"Hello, And Welcome To My World!\"\n",
    "print(n.casefold())"
   ]
  },
  {
   "cell_type": "code",
   "execution_count": null,
   "id": "c1215034-eba3-45f6-8142-03eb88c5dae3",
   "metadata": {},
   "outputs": [],
   "source": []
  }
 ],
 "metadata": {
  "kernelspec": {
   "display_name": "Python [conda env:Attachments]",
   "language": "python",
   "name": "conda-env-Attachments-py"
  },
  "language_info": {
   "codemirror_mode": {
    "name": "ipython",
    "version": 3
   },
   "file_extension": ".py",
   "mimetype": "text/x-python",
   "name": "python",
   "nbconvert_exporter": "python",
   "pygments_lexer": "ipython3",
   "version": "3.12.7"
  }
 },
 "nbformat": 4,
 "nbformat_minor": 5
}
