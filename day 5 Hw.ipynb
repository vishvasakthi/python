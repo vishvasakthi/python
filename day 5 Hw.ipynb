{
 "cells": [
  {
   "cell_type": "code",
   "execution_count": 31,
   "id": "d6ac8d8e-b161-486b-8c5b-487341735039",
   "metadata": {},
   "outputs": [
    {
     "name": "stdout",
     "output_type": "stream",
     "text": [
      "True\n",
      "False\n",
      "True\n"
     ]
    }
   ],
   "source": [
    "v = [\"vishva\"]\n",
    "n = [\"vishva\"]\n",
    "x = v\n",
    "print(v is x)\n",
    "print(v is n)\n",
    "print(v == n)\n"
   ]
  },
  {
   "cell_type": "code",
   "execution_count": 39,
   "id": "90409512-529b-4623-b8de-792860647018",
   "metadata": {},
   "outputs": [
    {
     "name": "stdout",
     "output_type": "stream",
     "text": [
      "False\n",
      "False\n",
      "True\n"
     ]
    }
   ],
   "source": [
    "x=7\n",
    "y=8\n",
    "print(x is y)\n",
    "print(y is x)\n",
    "print(x is not y)"
   ]
  },
  {
   "cell_type": "code",
   "execution_count": 49,
   "id": "356ee1d7-6113-41c5-a332-4ba944409eda",
   "metadata": {},
   "outputs": [
    {
     "name": "stdout",
     "output_type": "stream",
     "text": [
      "False\n",
      "False\n",
      "True\n",
      "True\n"
     ]
    }
   ],
   "source": [
    "a=20\n",
    "print(a<10 and a>20)\n",
    "print(a<10 or a>20)\n",
    "print(not(a<10 and a>20))\n",
    "print(not(a<10 or a>20))\n"
   ]
  },
  {
   "cell_type": "code",
   "execution_count": 51,
   "id": "a810f3e5-070e-45c0-a6f2-61a54587ada6",
   "metadata": {},
   "outputs": [
    {
     "name": "stdout",
     "output_type": "stream",
     "text": [
      "4\n"
     ]
    }
   ],
   "source": [
    "x=5\n",
    "y=4\n",
    "print(5 & 4)\n",
    "print(5 |"
   ]
  },
  {
   "cell_type": "code",
   "execution_count": null,
   "id": "5fd85cee-16c2-4b18-95e7-45188939e14f",
   "metadata": {},
   "outputs": [],
   "source": []
  }
 ],
 "metadata": {
  "kernelspec": {
   "display_name": "Python [conda env:Attachments]",
   "language": "python",
   "name": "conda-env-Attachments-py"
  },
  "language_info": {
   "codemirror_mode": {
    "name": "ipython",
    "version": 3
   },
   "file_extension": ".py",
   "mimetype": "text/x-python",
   "name": "python",
   "nbconvert_exporter": "python",
   "pygments_lexer": "ipython3",
   "version": "3.12.7"
  }
 },
 "nbformat": 4,
 "nbformat_minor": 5
}
