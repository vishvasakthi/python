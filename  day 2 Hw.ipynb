{
 "cells": [
  {
   "cell_type": "code",
   "execution_count": 3,
   "id": "b87c8038-36e1-41b7-8f96-987cc6f09408",
   "metadata": {},
   "outputs": [
    {
     "name": "stdout",
     "output_type": "stream",
     "text": [
      "(1+2j)\n"
     ]
    }
   ],
   "source": [
    "k=1+2j\n",
    "print(str(k))"
   ]
  },
  {
   "cell_type": "code",
   "execution_count": 11,
   "id": "9d40a418-81a3-4363-8564-b23b418b7e35",
   "metadata": {},
   "outputs": [
    {
     "name": "stdout",
     "output_type": "stream",
     "text": [
      "d\n"
     ]
    }
   ],
   "source": [
    "# indexing\n",
    "k=\"hello world\"\n",
    "print(k[-1])"
   ]
  },
  {
   "cell_type": "code",
   "execution_count": 21,
   "id": "994d4d0c-3576-40c2-a9f8-14a4003b0358",
   "metadata": {},
   "outputs": [
    {
     "name": "stdout",
     "output_type": "stream",
     "text": [
      "hello world\n"
     ]
    }
   ],
   "source": [
    "# slicing\n",
    "k=\"hello world\"\n",
    "print(k[0:11])"
   ]
  },
  {
   "cell_type": "code",
   "execution_count": 23,
   "id": "e7b76228-dc5c-420f-9c24-450014f2fa31",
   "metadata": {},
   "outputs": [
    {
     "name": "stdout",
     "output_type": "stream",
     "text": [
      "vishva\n"
     ]
    }
   ],
   "source": [
    "v=\"vishva\"\n",
    "print(v[0:7])"
   ]
  },
  {
   "cell_type": "code",
   "execution_count": 1,
   "id": "09ba6a3b-5ead-44d8-94b3-2d4cc3fb0068",
   "metadata": {},
   "outputs": [
    {
     "name": "stdout",
     "output_type": "stream",
     "text": [
      "lo world\n"
     ]
    }
   ],
   "source": [
    "k=\"hello world\"\n",
    "print(k[3:])"
   ]
  },
  {
   "cell_type": "code",
   "execution_count": 3,
   "id": "c101523b-ded1-4941-8ba8-b3f8da3e863a",
   "metadata": {},
   "outputs": [
    {
     "name": "stdout",
     "output_type": "stream",
     "text": [
      " are\n"
     ]
    }
   ],
   "source": [
    "s=\"how are you\"\n",
    "print(s[3:-4])"
   ]
  },
  {
   "cell_type": "code",
   "execution_count": 5,
   "id": "05c5c15c-75d4-4d73-83da-3bee0eec74d2",
   "metadata": {},
   "outputs": [
    {
     "name": "stdout",
     "output_type": "stream",
     "text": [
      "you\n"
     ]
    }
   ],
   "source": [
    "s=\"how are you\"\n",
    "print(s[8:])"
   ]
  },
  {
   "cell_type": "code",
   "execution_count": 7,
   "id": "70cafbb5-860e-45e6-9d18-d77acfbdca47",
   "metadata": {},
   "outputs": [
    {
     "name": "stdout",
     "output_type": "stream",
     "text": [
      "how \n"
     ]
    }
   ],
   "source": [
    "s=\"how are you\"\n",
    "print(s[ :4])"
   ]
  },
  {
   "cell_type": "code",
   "execution_count": null,
   "id": "15f2bbaf-7567-4531-954e-2728d65499f1",
   "metadata": {},
   "outputs": [],
   "source": []
  }
 ],
 "metadata": {
  "kernelspec": {
   "display_name": "Python [conda env:Attachments]",
   "language": "python",
   "name": "conda-env-Attachments-py"
  },
  "language_info": {
   "codemirror_mode": {
    "name": "ipython",
    "version": 3
   },
   "file_extension": ".py",
   "mimetype": "text/x-python",
   "name": "python",
   "nbconvert_exporter": "python",
   "pygments_lexer": "ipython3",
   "version": "3.12.7"
  }
 },
 "nbformat": 4,
 "nbformat_minor": 5
}
